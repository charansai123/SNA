{
 "cells": [
  {
   "cell_type": "code",
   "execution_count": null,
   "metadata": {
    "colab": {
     "base_uri": "https://localhost:8080/"
    },
    "id": "P8Kh8Sl1UA0f",
    "outputId": "33654f06-00c7-487f-e9d6-6320187951f2"
   },
   "outputs": [
    {
     "name": "stdout",
     "output_type": "stream",
     "text": [
      "Mounted at /content/gdrive\n"
     ]
    }
   ],
   "source": [
    "from google.colab import drive\n",
    "drive.mount('/content/gdrive')"
   ]
  },
  {
   "cell_type": "code",
   "execution_count": null,
   "metadata": {
    "id": "ieT4ZZZoT-or"
   },
   "outputs": [],
   "source": [
    "import pandas as pd\n",
    "import matplotlib.pyplot as plt\n",
    "import numpy as np\n",
    "import random\n",
    "import tikzplotlib as tikz\n",
    "from scipy import stats\n",
    "from scipy.stats import ks_2samp\n",
    "\n",
    "plt.rcParams['figure.figsize'] = [10,7]\n",
    "random.seed(0)"
   ]
  },
  {
   "cell_type": "code",
   "execution_count": null,
   "metadata": {
    "id": "oQNilNeST-ov"
   },
   "outputs": [],
   "source": [
    "# The function returns the unique element of a list.\n",
    "def unique(list1): \n",
    "    x = np.array(list1) \n",
    "    x = (np.unique(x))\n",
    "    return x.tolist()\n",
    "\n",
    "# From the file containing the edges list, the function imports the list of edges and finds the set of nodes.\n",
    "def import_nodes(filename):\n",
    "    edges = pd.read_csv(filename)\n",
    "    nodes = edges['Source'].to_list()\n",
    "    nodes = [nodes, edges['Target'].to_list()]\n",
    "    nodes = unique(nodes)\n",
    "    return nodes, edges\n",
    "\n",
    "# From the list of edges and nodes, the function creates a dataframe in which, each row is associated with a node.\n",
    "# The row contains the node id, its in-degree, and its ranking (based on the in-degree).\n",
    "# Rows are ordered in decreasing in-degree, and increasing ranking.\n",
    "\n",
    "def create_nodes_df(nodes, edges):\n",
    "    indegree = [0]*len(nodes)\n",
    "    outdegree = [0]*len(nodes)\n",
    "    data = {'id':nodes, 'indegree':   indegree, 'outdegree': outdegree}\n",
    "    nodes_df = pd.DataFrame(data)\n",
    "    edges_list = edges.values.tolist()\n",
    "    for edge in edges_list:\n",
    "        nodes_df.loc[nodes_df['id']==edge[1], 'indegree'] += 1\n",
    "        nodes_df.loc[nodes_df['id']==edge[0], 'outdegree'] += 1\n",
    "    nodes_df.sort_values(by=['indegree'], inplace=True, ascending=False)\n",
    "    \n",
    "    rank_array = np.linspace(1, len(nodes), len(nodes), dtype=int)\n",
    "    rank_list = rank_array.tolist()\n",
    "    nodes_df['rank']=rank_list\n",
    "    \n",
    "    return nodes_df"
   ]
  },
  {
   "cell_type": "code",
   "execution_count": null,
   "metadata": {
    "id": "tZJH26OCT-ow"
   },
   "outputs": [],
   "source": [
    "[nodes, edges] = import_nodes('/content/gdrive/MyDrive/SNA/graph.csv') \n",
    "nodes_df = create_nodes_df(nodes, edges)"
   ]
  },
  {
   "cell_type": "code",
   "execution_count": null,
   "metadata": {
    "colab": {
     "base_uri": "https://localhost:8080/",
     "height": 206
    },
    "id": "dLRRYExVnGAx",
    "outputId": "06bbef01-30a1-4207-f9d9-1e4d43872e61"
   },
   "outputs": [
    {
     "data": {
      "text/html": [
       "\n",
       "  <div id=\"df-20997185-3ff3-4d9a-8453-01f2ca3ef7df\">\n",
       "    <div class=\"colab-df-container\">\n",
       "      <div>\n",
       "<style scoped>\n",
       "    .dataframe tbody tr th:only-of-type {\n",
       "        vertical-align: middle;\n",
       "    }\n",
       "\n",
       "    .dataframe tbody tr th {\n",
       "        vertical-align: top;\n",
       "    }\n",
       "\n",
       "    .dataframe thead th {\n",
       "        text-align: right;\n",
       "    }\n",
       "</style>\n",
       "<table border=\"1\" class=\"dataframe\">\n",
       "  <thead>\n",
       "    <tr style=\"text-align: right;\">\n",
       "      <th></th>\n",
       "      <th>id</th>\n",
       "      <th>indegree</th>\n",
       "      <th>outdegree</th>\n",
       "      <th>rank</th>\n",
       "    </tr>\n",
       "  </thead>\n",
       "  <tbody>\n",
       "    <tr>\n",
       "      <th>1175</th>\n",
       "      <td>56341402</td>\n",
       "      <td>3022</td>\n",
       "      <td>125</td>\n",
       "      <td>1</td>\n",
       "    </tr>\n",
       "    <tr>\n",
       "      <th>3208</th>\n",
       "      <td>579299426</td>\n",
       "      <td>2970</td>\n",
       "      <td>183</td>\n",
       "      <td>2</td>\n",
       "    </tr>\n",
       "    <tr>\n",
       "      <th>3214</th>\n",
       "      <td>582161546</td>\n",
       "      <td>2477</td>\n",
       "      <td>336</td>\n",
       "      <td>3</td>\n",
       "    </tr>\n",
       "    <tr>\n",
       "      <th>1457</th>\n",
       "      <td>90258002</td>\n",
       "      <td>2217</td>\n",
       "      <td>191</td>\n",
       "      <td>4</td>\n",
       "    </tr>\n",
       "    <tr>\n",
       "      <th>2167</th>\n",
       "      <td>229910053</td>\n",
       "      <td>1922</td>\n",
       "      <td>533</td>\n",
       "      <td>5</td>\n",
       "    </tr>\n",
       "  </tbody>\n",
       "</table>\n",
       "</div>\n",
       "      <button class=\"colab-df-convert\" onclick=\"convertToInteractive('df-20997185-3ff3-4d9a-8453-01f2ca3ef7df')\"\n",
       "              title=\"Convert this dataframe to an interactive table.\"\n",
       "              style=\"display:none;\">\n",
       "        \n",
       "  <svg xmlns=\"http://www.w3.org/2000/svg\" height=\"24px\"viewBox=\"0 0 24 24\"\n",
       "       width=\"24px\">\n",
       "    <path d=\"M0 0h24v24H0V0z\" fill=\"none\"/>\n",
       "    <path d=\"M18.56 5.44l.94 2.06.94-2.06 2.06-.94-2.06-.94-.94-2.06-.94 2.06-2.06.94zm-11 1L8.5 8.5l.94-2.06 2.06-.94-2.06-.94L8.5 2.5l-.94 2.06-2.06.94zm10 10l.94 2.06.94-2.06 2.06-.94-2.06-.94-.94-2.06-.94 2.06-2.06.94z\"/><path d=\"M17.41 7.96l-1.37-1.37c-.4-.4-.92-.59-1.43-.59-.52 0-1.04.2-1.43.59L10.3 9.45l-7.72 7.72c-.78.78-.78 2.05 0 2.83L4 21.41c.39.39.9.59 1.41.59.51 0 1.02-.2 1.41-.59l7.78-7.78 2.81-2.81c.8-.78.8-2.07 0-2.86zM5.41 20L4 18.59l7.72-7.72 1.47 1.35L5.41 20z\"/>\n",
       "  </svg>\n",
       "      </button>\n",
       "      \n",
       "  <style>\n",
       "    .colab-df-container {\n",
       "      display:flex;\n",
       "      flex-wrap:wrap;\n",
       "      gap: 12px;\n",
       "    }\n",
       "\n",
       "    .colab-df-convert {\n",
       "      background-color: #E8F0FE;\n",
       "      border: none;\n",
       "      border-radius: 50%;\n",
       "      cursor: pointer;\n",
       "      display: none;\n",
       "      fill: #1967D2;\n",
       "      height: 32px;\n",
       "      padding: 0 0 0 0;\n",
       "      width: 32px;\n",
       "    }\n",
       "\n",
       "    .colab-df-convert:hover {\n",
       "      background-color: #E2EBFA;\n",
       "      box-shadow: 0px 1px 2px rgba(60, 64, 67, 0.3), 0px 1px 3px 1px rgba(60, 64, 67, 0.15);\n",
       "      fill: #174EA6;\n",
       "    }\n",
       "\n",
       "    [theme=dark] .colab-df-convert {\n",
       "      background-color: #3B4455;\n",
       "      fill: #D2E3FC;\n",
       "    }\n",
       "\n",
       "    [theme=dark] .colab-df-convert:hover {\n",
       "      background-color: #434B5C;\n",
       "      box-shadow: 0px 1px 3px 1px rgba(0, 0, 0, 0.15);\n",
       "      filter: drop-shadow(0px 1px 2px rgba(0, 0, 0, 0.3));\n",
       "      fill: #FFFFFF;\n",
       "    }\n",
       "  </style>\n",
       "\n",
       "      <script>\n",
       "        const buttonEl =\n",
       "          document.querySelector('#df-20997185-3ff3-4d9a-8453-01f2ca3ef7df button.colab-df-convert');\n",
       "        buttonEl.style.display =\n",
       "          google.colab.kernel.accessAllowed ? 'block' : 'none';\n",
       "\n",
       "        async function convertToInteractive(key) {\n",
       "          const element = document.querySelector('#df-20997185-3ff3-4d9a-8453-01f2ca3ef7df');\n",
       "          const dataTable =\n",
       "            await google.colab.kernel.invokeFunction('convertToInteractive',\n",
       "                                                     [key], {});\n",
       "          if (!dataTable) return;\n",
       "\n",
       "          const docLinkHtml = 'Like what you see? Visit the ' +\n",
       "            '<a target=\"_blank\" href=https://colab.research.google.com/notebooks/data_table.ipynb>data table notebook</a>'\n",
       "            + ' to learn more about interactive tables.';\n",
       "          element.innerHTML = '';\n",
       "          dataTable['output_type'] = 'display_data';\n",
       "          await google.colab.output.renderOutput(dataTable, element);\n",
       "          const docLink = document.createElement('div');\n",
       "          docLink.innerHTML = docLinkHtml;\n",
       "          element.appendChild(docLink);\n",
       "        }\n",
       "      </script>\n",
       "    </div>\n",
       "  </div>\n",
       "  "
      ],
      "text/plain": [
       "             id  indegree  outdegree  rank\n",
       "1175   56341402      3022        125     1\n",
       "3208  579299426      2970        183     2\n",
       "3214  582161546      2477        336     3\n",
       "1457   90258002      2217        191     4\n",
       "2167  229910053      1922        533     5"
      ]
     },
     "execution_count": 7,
     "metadata": {},
     "output_type": "execute_result"
    }
   ],
   "source": [
    "nodes_df.head(5)"
   ]
  },
  {
   "cell_type": "markdown",
   "metadata": {
    "id": "iV2Y8z-bT-ox"
   },
   "source": [
    "Using the edge list, we create a data-frame (friends_df) in which, for each user id, we store the rank of the userid's followee, sequentially ordered (the first one is the oldest followee)."
   ]
  },
  {
   "cell_type": "code",
   "execution_count": null,
   "metadata": {
    "id": "9lPLEK3dT-oy"
   },
   "outputs": [],
   "source": [
    "friends_df = pd.DataFrame(columns=['id', 'friends'])\n",
    "node = edges['Source'][0]\n",
    "friends = []\n",
    "for index, edge in edges.iterrows():\n",
    "    if (node != edge['Source']):\n",
    "        friends_df = friends_df.append({'id' : node , 'friends' : friends}, ignore_index=True)\n",
    "        node = edge['Source']\n",
    "        friends = []\n",
    "    friend_rank = nodes_df.loc[nodes_df['id']==edge['Target']]\n",
    "    friends.append(friend_rank['rank'].values[0]) "
   ]
  },
  {
   "cell_type": "code",
   "execution_count": null,
   "metadata": {
    "colab": {
     "base_uri": "https://localhost:8080/",
     "height": 206
    },
    "id": "EkT3vn9mn_is",
    "outputId": "6bd3df4c-5476-45e1-fadd-4de713ad604e"
   },
   "outputs": [
    {
     "data": {
      "text/html": [
       "\n",
       "  <div id=\"df-98959e6e-b38e-4bdc-94e7-03a5cc28b6c4\">\n",
       "    <div class=\"colab-df-container\">\n",
       "      <div>\n",
       "<style scoped>\n",
       "    .dataframe tbody tr th:only-of-type {\n",
       "        vertical-align: middle;\n",
       "    }\n",
       "\n",
       "    .dataframe tbody tr th {\n",
       "        vertical-align: top;\n",
       "    }\n",
       "\n",
       "    .dataframe thead th {\n",
       "        text-align: right;\n",
       "    }\n",
       "</style>\n",
       "<table border=\"1\" class=\"dataframe\">\n",
       "  <thead>\n",
       "    <tr style=\"text-align: right;\">\n",
       "      <th></th>\n",
       "      <th>id</th>\n",
       "      <th>friends</th>\n",
       "    </tr>\n",
       "  </thead>\n",
       "  <tbody>\n",
       "    <tr>\n",
       "      <th>0</th>\n",
       "      <td>1070010671918665728</td>\n",
       "      <td>[17, 66, 236, 927, 29, 950, 14, 25, 377, 241, ...</td>\n",
       "    </tr>\n",
       "    <tr>\n",
       "      <th>1</th>\n",
       "      <td>848539500167004160</td>\n",
       "      <td>[124, 785, 830, 1797, 2040, 1295, 233, 414, 69...</td>\n",
       "    </tr>\n",
       "    <tr>\n",
       "      <th>2</th>\n",
       "      <td>814015332</td>\n",
       "      <td>[2696, 1303, 1140, 773, 1869, 1851, 3255, 661,...</td>\n",
       "    </tr>\n",
       "    <tr>\n",
       "      <th>3</th>\n",
       "      <td>1220359214884904965</td>\n",
       "      <td>[4909, 3143, 5104, 947, 1219, 3880, 2632, 79, ...</td>\n",
       "    </tr>\n",
       "    <tr>\n",
       "      <th>4</th>\n",
       "      <td>382393</td>\n",
       "      <td>[3716, 2652, 1620, 305, 4051, 1294, 634, 3979,...</td>\n",
       "    </tr>\n",
       "  </tbody>\n",
       "</table>\n",
       "</div>\n",
       "      <button class=\"colab-df-convert\" onclick=\"convertToInteractive('df-98959e6e-b38e-4bdc-94e7-03a5cc28b6c4')\"\n",
       "              title=\"Convert this dataframe to an interactive table.\"\n",
       "              style=\"display:none;\">\n",
       "        \n",
       "  <svg xmlns=\"http://www.w3.org/2000/svg\" height=\"24px\"viewBox=\"0 0 24 24\"\n",
       "       width=\"24px\">\n",
       "    <path d=\"M0 0h24v24H0V0z\" fill=\"none\"/>\n",
       "    <path d=\"M18.56 5.44l.94 2.06.94-2.06 2.06-.94-2.06-.94-.94-2.06-.94 2.06-2.06.94zm-11 1L8.5 8.5l.94-2.06 2.06-.94-2.06-.94L8.5 2.5l-.94 2.06-2.06.94zm10 10l.94 2.06.94-2.06 2.06-.94-2.06-.94-.94-2.06-.94 2.06-2.06.94z\"/><path d=\"M17.41 7.96l-1.37-1.37c-.4-.4-.92-.59-1.43-.59-.52 0-1.04.2-1.43.59L10.3 9.45l-7.72 7.72c-.78.78-.78 2.05 0 2.83L4 21.41c.39.39.9.59 1.41.59.51 0 1.02-.2 1.41-.59l7.78-7.78 2.81-2.81c.8-.78.8-2.07 0-2.86zM5.41 20L4 18.59l7.72-7.72 1.47 1.35L5.41 20z\"/>\n",
       "  </svg>\n",
       "      </button>\n",
       "      \n",
       "  <style>\n",
       "    .colab-df-container {\n",
       "      display:flex;\n",
       "      flex-wrap:wrap;\n",
       "      gap: 12px;\n",
       "    }\n",
       "\n",
       "    .colab-df-convert {\n",
       "      background-color: #E8F0FE;\n",
       "      border: none;\n",
       "      border-radius: 50%;\n",
       "      cursor: pointer;\n",
       "      display: none;\n",
       "      fill: #1967D2;\n",
       "      height: 32px;\n",
       "      padding: 0 0 0 0;\n",
       "      width: 32px;\n",
       "    }\n",
       "\n",
       "    .colab-df-convert:hover {\n",
       "      background-color: #E2EBFA;\n",
       "      box-shadow: 0px 1px 2px rgba(60, 64, 67, 0.3), 0px 1px 3px 1px rgba(60, 64, 67, 0.15);\n",
       "      fill: #174EA6;\n",
       "    }\n",
       "\n",
       "    [theme=dark] .colab-df-convert {\n",
       "      background-color: #3B4455;\n",
       "      fill: #D2E3FC;\n",
       "    }\n",
       "\n",
       "    [theme=dark] .colab-df-convert:hover {\n",
       "      background-color: #434B5C;\n",
       "      box-shadow: 0px 1px 3px 1px rgba(0, 0, 0, 0.15);\n",
       "      filter: drop-shadow(0px 1px 2px rgba(0, 0, 0, 0.3));\n",
       "      fill: #FFFFFF;\n",
       "    }\n",
       "  </style>\n",
       "\n",
       "      <script>\n",
       "        const buttonEl =\n",
       "          document.querySelector('#df-98959e6e-b38e-4bdc-94e7-03a5cc28b6c4 button.colab-df-convert');\n",
       "        buttonEl.style.display =\n",
       "          google.colab.kernel.accessAllowed ? 'block' : 'none';\n",
       "\n",
       "        async function convertToInteractive(key) {\n",
       "          const element = document.querySelector('#df-98959e6e-b38e-4bdc-94e7-03a5cc28b6c4');\n",
       "          const dataTable =\n",
       "            await google.colab.kernel.invokeFunction('convertToInteractive',\n",
       "                                                     [key], {});\n",
       "          if (!dataTable) return;\n",
       "\n",
       "          const docLinkHtml = 'Like what you see? Visit the ' +\n",
       "            '<a target=\"_blank\" href=https://colab.research.google.com/notebooks/data_table.ipynb>data table notebook</a>'\n",
       "            + ' to learn more about interactive tables.';\n",
       "          element.innerHTML = '';\n",
       "          dataTable['output_type'] = 'display_data';\n",
       "          await google.colab.output.renderOutput(dataTable, element);\n",
       "          const docLink = document.createElement('div');\n",
       "          docLink.innerHTML = docLinkHtml;\n",
       "          element.appendChild(docLink);\n",
       "        }\n",
       "      </script>\n",
       "    </div>\n",
       "  </div>\n",
       "  "
      ],
      "text/plain": [
       "                    id                                            friends\n",
       "0  1070010671918665728  [17, 66, 236, 927, 29, 950, 14, 25, 377, 241, ...\n",
       "1   848539500167004160  [124, 785, 830, 1797, 2040, 1295, 233, 414, 69...\n",
       "2            814015332  [2696, 1303, 1140, 773, 1869, 1851, 3255, 661,...\n",
       "3  1220359214884904965  [4909, 3143, 5104, 947, 1219, 3880, 2632, 79, ...\n",
       "4               382393  [3716, 2652, 1620, 305, 4051, 1294, 634, 3979,..."
      ]
     },
     "execution_count": 9,
     "metadata": {},
     "output_type": "execute_result"
    }
   ],
   "source": [
    "friends_df.head(5)"
   ]
  },
  {
   "cell_type": "code",
   "execution_count": null,
   "metadata": {
    "colab": {
     "base_uri": "https://localhost:8080/"
    },
    "id": "K_fskQvToFf2",
    "outputId": "2c910afb-6fa7-4c6b-da50-52805f1e15cf"
   },
   "outputs": [
    {
     "data": {
      "text/plain": [
       "34"
      ]
     },
     "execution_count": 12,
     "metadata": {},
     "output_type": "execute_result"
    }
   ],
   "source": [
    "len(friends)"
   ]
  },
  {
   "cell_type": "markdown",
   "metadata": {
    "id": "Coj4oL45T-oz"
   },
   "source": [
    "# Computing violation with respect to the median\n",
    "The following code computes, for each node (with at least two followees), the probability p_i , and it stores it in the vector p.To do so, it uses the list of followers, ordered in temporal sequence, as given by the Twitter API.\n",
    "Similarly, it computes the same probability under the null hypothesis, i.e., after reshuffling the list of followers (thus, removing any temporal pattern)."
   ]
  },
  {
   "cell_type": "code",
   "execution_count": null,
   "metadata": {
    "colab": {
     "base_uri": "https://localhost:8080/",
     "height": 683
    },
    "id": "9tNu3cnxT-oz",
    "outputId": "7882fe99-b7ab-4f9b-837f-477301ca4585"
   },
   "outputs": [
    {
     "name": "stdout",
     "output_type": "stream",
     "text": [
      "Data.\n",
      "Size: 6474\n",
      "Mean: 0.44942986776465543\n",
      "Median: 0.43548387096774194\n",
      "Std-dev: 0.18891446024303749\n",
      "\n",
      "0-hypotesis:\n",
      "Mean: 0.48897498809057566\n",
      "Median: 0.5\n",
      "Std-dev: 0.1737990355550674\n",
      "\n",
      "Kolmogorov-Smirnov tests, two samples\n"
     ]
    },
    {
     "data": {
      "text/plain": [
       "Ks_2sampResult(statistic=0.2147239263803681, pvalue=2.785253346971273e-135)"
      ]
     },
     "execution_count": 13,
     "metadata": {},
     "output_type": "execute_result"
    },
    {
     "data": {
      "image/png": "[encoded data removed]",
      "text/plain": [
       "<Figure size 720x504 with 1 Axes>"
      ]
     },
     "metadata": {
      "needs_background": "light"
     },
     "output_type": "display_data"
    }
   ],
   "source": [
    "random.seed(0)\n",
    "p = []\n",
    "p_null_hypothesis = []\n",
    "for node in friends_df['id']:\n",
    "    friends = (friends_df.loc[friends_df['id'] == node, 'friends'].values[0]).copy()\n",
    "    friends_null_hypothesis = random.sample(friends, len(friends))\n",
    "    t = np.linspace(1, len(friends), len(friends), dtype=int)\n",
    "    series  = {'time': t, 'friends': friends}\n",
    "    violations = np.NaN\n",
    "    violations_null_hypothesis = np.NaN\n",
    "    median = []\n",
    "    median.append(friends[0])\n",
    "    median_null_hypothesis = []\n",
    "    median_null_hypothesis.append(friends_null_hypothesis[0])\n",
    "    if (len(friends)>1):\n",
    "        violations = 0\n",
    "        violations_null_hypothesis = 0\n",
    "    for i in range(1, len(friends)):\n",
    "        if (friends[i]>median[-1]):\n",
    "            violations+=1\n",
    "        if (friends_null_hypothesis[i]>median_null_hypothesis[-1]):\n",
    "            violations_null_hypothesis+=1\n",
    "        median.append(np.median(friends[0:i+1]))\n",
    "        median_null_hypothesis.append(np.median(friends_null_hypothesis[0:i+1]))\n",
    "    if (len(friends)>1):\n",
    "        p.append(violations/(len(friends)-1))\n",
    "        p_null_hypothesis.append(violations_null_hypothesis/(len(friends)-1))\n",
    "    else:\n",
    "        p.append(np.NaN)\n",
    "        p_null_hypothesis.append(np.NaN)\n",
    "plt.hist(p, bins=19, alpha=0.5, label='Data')\n",
    "plt.hist(p_null_hypothesis, bins=19, alpha = 0.5, label='Null Hypotesis')\n",
    "plt.xlim((0,1))\n",
    "plt.xlabel('Median violation probability')\n",
    "plt.ylabel('frequency')\n",
    "plt.title('Median rule violations')\n",
    "plt.legend(loc=\"upper right\")\n",
    "tikz.save(\"median_violation_histogram.tikz\")\n",
    "print('Data.')\n",
    "print('Size:', np.count_nonzero(~np.isnan(p)))\n",
    "print('Mean:', np.nanmean(p))\n",
    "print('Median:', np.nanmedian(p))\n",
    "print('Std-dev:', np.nanstd(p))\n",
    "print('')\n",
    "print('0-hypotesis:')\n",
    "print('Mean:', np.nanmean(p_null_hypothesis))\n",
    "print('Median:', np.nanmedian(p_null_hypothesis))\n",
    "print('Std-dev:', np.nanstd(p_null_hypothesis))\n",
    "print('')\n",
    "print('Kolmogorov-Smirnov tests, two samples')\n",
    "ks_2samp(p, p_null_hypothesis)"
   ]
  },
  {
   "cell_type": "code",
   "execution_count": null,
   "metadata": {
    "id": "s6lhn9DrT-o1"
   },
   "outputs": [],
   "source": []
  }
 ],
 "metadata": {
  "accelerator": "TPU",
  "colab": {
   "collapsed_sections": [],
   "name": "Twitter_analysis.ipynb",
   "provenance": []
  },
  "kernelspec": {
   "display_name": "Python 3",
   "language": "python",
   "name": "python3"
  },
  "language_info": {
   "codemirror_mode": {
    "name": "ipython",
    "version": 3
   },
   "file_extension": ".py",
   "mimetype": "text/x-python",
   "name": "python",
   "nbconvert_exporter": "python",
   "pygments_lexer": "ipython3",
   "version": "3.8.5"
  }
 },
 "nbformat": 4,
 "nbformat_minor": 1
}
